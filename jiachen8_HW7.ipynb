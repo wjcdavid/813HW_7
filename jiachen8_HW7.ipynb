{
 "cells": [
  {
   "cell_type": "markdown",
   "id": "aad96ff2",
   "metadata": {},
   "source": [
    "# Q1"
   ]
  },
  {
   "cell_type": "markdown",
   "id": "28c5260f",
   "metadata": {},
   "source": [
    "## Q1.1"
   ]
  },
  {
   "cell_type": "code",
   "execution_count": 1,
   "id": "69fc2373",
   "metadata": {},
   "outputs": [],
   "source": [
    "import pyspark\n",
    "from pyspark.sql import SparkSession, SQLContext\n",
    "from pyspark.ml import Pipeline,Transformer\n",
    "from pyspark.ml.feature import Imputer,StandardScaler,StringIndexer,OneHotEncoder, VectorAssembler\n",
    "\n",
    "from pyspark.sql.functions import *\n",
    "from pyspark.sql.types import *\n",
    "import numpy as np\n",
    "\n",
    "col_names = [\"duration\",\"protocol_type\",\"service\",\"flag\",\"src_bytes\",\n",
    "\"dst_bytes\",\"land\",\"wrong_fragment\",\"urgent\",\"hot\",\"num_failed_logins\",\n",
    "\"logged_in\",\"num_compromised\",\"root_shell\",\"su_attempted\",\"num_root\",\n",
    "\"num_file_creations\",\"num_shells\",\"num_access_files\",\"num_outbound_cmds\",\n",
    "\"is_host_login\",\"is_guest_login\",\"count\",\"srv_count\",\"serror_rate\",\n",
    "\"srv_serror_rate\",\"rerror_rate\",\"srv_rerror_rate\",\"same_srv_rate\",\n",
    "\"diff_srv_rate\",\"srv_diff_host_rate\",\"dst_host_count\",\"dst_host_srv_count\",\n",
    "\"dst_host_same_srv_rate\",\"dst_host_diff_srv_rate\",\"dst_host_same_src_port_rate\",\n",
    "\"dst_host_srv_diff_host_rate\",\"dst_host_serror_rate\",\"dst_host_srv_serror_rate\",\n",
    "\"dst_host_rerror_rate\",\"dst_host_srv_rerror_rate\",\"class\",\"difficulty\"]\n",
    "\n",
    "nominal_cols = ['protocol_type','service','flag']\n",
    "binary_cols = ['land', 'logged_in', 'root_shell', 'su_attempted', 'is_host_login',\n",
    "'is_guest_login']\n",
    "continuous_cols = ['duration' ,'src_bytes', 'dst_bytes', 'wrong_fragment' ,'urgent', 'hot',\n",
    "'num_failed_logins', 'num_compromised', 'num_root' ,'num_file_creations',\n",
    "'num_shells', 'num_access_files', 'num_outbound_cmds', 'count' ,'srv_count',\n",
    "'serror_rate', 'srv_serror_rate' ,'rerror_rate' ,'srv_rerror_rate',\n",
    "'same_srv_rate', 'diff_srv_rate', 'srv_diff_host_rate' ,'dst_host_count',\n",
    "'dst_host_srv_count' ,'dst_host_same_srv_rate' ,'dst_host_diff_srv_rate',\n",
    "'dst_host_same_src_port_rate' ,'dst_host_srv_diff_host_rate',\n",
    "'dst_host_serror_rate' ,'dst_host_srv_serror_rate', 'dst_host_rerror_rate',\n",
    "'dst_host_srv_rerror_rate']\n",
    "\n",
    "\n",
    "DoS=['apache2','back','land','neptune','mailbomb','pod','processtable','smurf','teardrop','udpstorm','worm']\n",
    "Probe=['ipsweep','mscan','nmap','portsweep','saint','satan']\n",
    "U2R = ['buffer_overflow','loadmodule','perl','ps','rootkit','sqlattack','xterm']\n",
    "R2L = ['ftp_write','guess_passwd','httptunnel','imap','multihop','named','phf','sendmail','Snmpgetattack','spy',\n",
    "      'snmpguess','warezclient','warezmaster','xlock','xsnoop']\n",
    "\n",
    "\n",
    "class OutcomeCreater(Transformer): # this defines a transformer that creates the outcome column\n",
    "    \n",
    "    def __init__(self):\n",
    "        super().__init__()\n",
    "\n",
    "    def _transform(self, dataset):\n",
    "        label_to_binary = udf(lambda name: 0.0 if name == 'normal' else 1.0 if name in DoS else 2.0 if name in Probe\n",
    "                             else 3.0 if name in U2R else 4.0)\n",
    "        output_df = dataset.withColumn('outcome', label_to_binary(col('class'))).drop(\"class\")  \n",
    "        output_df = output_df.withColumn('outcome', col('outcome').cast(DoubleType()))\n",
    "        output_df = output_df.drop('difficulty')\n",
    "        return output_df\n",
    "\n",
    "class FeatureTypeCaster(Transformer): # this transformer will cast the columns as appropriate types  \n",
    "    def __init__(self):\n",
    "        super().__init__()\n",
    "\n",
    "    def _transform(self, dataset):\n",
    "        output_df = dataset\n",
    "        for col_name in binary_cols + continuous_cols:\n",
    "            output_df = output_df.withColumn(col_name,col(col_name).cast(DoubleType()))\n",
    "\n",
    "        return output_df\n",
    "class ColumnDropper(Transformer): # this transformer drops unnecessary columns\n",
    "    def __init__(self, columns_to_drop = None):\n",
    "        super().__init__()\n",
    "        self.columns_to_drop=columns_to_drop\n",
    "    def _transform(self, dataset):\n",
    "        output_df = dataset\n",
    "        for col_name in self.columns_to_drop:\n",
    "            output_df = output_df.drop(col_name)\n",
    "        return output_df\n",
    "\n",
    "def get_preprocess_pipeline():\n",
    "    # Stage where columns are casted as appropriate types\n",
    "    stage_typecaster = FeatureTypeCaster()\n",
    "\n",
    "    # Stage where nominal columns are transformed to index columns using StringIndexer\n",
    "    nominal_id_cols = [x+\"_index\" for x in nominal_cols]\n",
    "    nominal_onehot_cols = [x+\"_encoded\" for x in nominal_cols]\n",
    "    stage_nominal_indexer = StringIndexer(inputCols = nominal_cols, outputCols = nominal_id_cols )\n",
    "\n",
    "    # Stage where the index columns are further transformed using OneHotEncoder\n",
    "    stage_nominal_onehot_encoder = OneHotEncoder(inputCols=nominal_id_cols, outputCols=nominal_onehot_cols)\n",
    "\n",
    "    # Stage where all relevant features are assembled into a vector (and dropping a few)\n",
    "    feature_cols = continuous_cols+binary_cols+nominal_onehot_cols\n",
    "    corelated_cols_to_remove = [\"dst_host_serror_rate\",\"srv_serror_rate\",\"dst_host_srv_serror_rate\",\n",
    "                     \"srv_rerror_rate\",\"dst_host_rerror_rate\",\"dst_host_srv_rerror_rate\"]\n",
    "    for col_name in corelated_cols_to_remove:\n",
    "        feature_cols.remove(col_name)\n",
    "    stage_vector_assembler = VectorAssembler(inputCols=feature_cols, outputCol=\"vectorized_features\")\n",
    "\n",
    "    # Stage where we scale the columns\n",
    "    stage_scaler = StandardScaler(inputCol= 'vectorized_features', outputCol= 'features')\n",
    "    \n",
    "\n",
    "    # Stage for creating the outcome column representing whether there is attack \n",
    "    stage_outcome = OutcomeCreater()\n",
    "\n",
    "    # Removing all unnecessary columbs, only keeping the 'features' and 'outcome' columns\n",
    "    stage_column_dropper = ColumnDropper(columns_to_drop = nominal_cols+nominal_id_cols+\n",
    "        nominal_onehot_cols+ binary_cols + continuous_cols + ['vectorized_features'])\n",
    "    # Connect the columns into a pipeline\n",
    "    pipeline = Pipeline(stages=[stage_typecaster,stage_nominal_indexer,stage_nominal_onehot_encoder,\n",
    "        stage_vector_assembler,stage_scaler,stage_outcome,stage_column_dropper])\n",
    "    return pipeline "
   ]
  },
  {
   "cell_type": "code",
   "execution_count": 2,
   "id": "2b93bf55",
   "metadata": {},
   "outputs": [
    {
     "name": "stderr",
     "output_type": "stream",
     "text": [
      "Setting default log level to \"WARN\".\n",
      "To adjust logging level use sc.setLogLevel(newLevel). For SparkR, use setLogLevel(newLevel).\n"
     ]
    },
    {
     "name": "stdout",
     "output_type": "stream",
     "text": [
      "22/11/07 14:03:07 WARN NativeCodeLoader: Unable to load native-hadoop library for your platform... using builtin-java classes where applicable\n"
     ]
    },
    {
     "name": "stderr",
     "output_type": "stream",
     "text": [
      "                                                                                \r"
     ]
    },
    {
     "name": "stdout",
     "output_type": "stream",
     "text": [
      "22/11/07 14:03:16 WARN package: Truncated the string representation of a plan since it was too large. This behavior can be adjusted by setting 'spark.sql.debug.maxToStringFields'.\n"
     ]
    },
    {
     "name": "stderr",
     "output_type": "stream",
     "text": [
      "                                                                                \r"
     ]
    }
   ],
   "source": [
    "spark = SparkSession.builder \\\n",
    "    .master(\"local[*]\") \\\n",
    "    .appName(\"GenericAppName\") \\\n",
    "    .getOrCreate()\n",
    "\n",
    "nslkdd_raw = spark.read.csv('Data/KDDTrain+.txt',header=False).toDF(*col_names)\n",
    "nslkdd_test_raw = spark.read.csv('Data/KDDTest+.txt',header=False).toDF(*col_names)\n",
    "preprocess_pipeline = get_preprocess_pipeline()\n",
    "preprocess_pipeline_model = preprocess_pipeline.fit(nslkdd_raw)\n",
    "\n",
    "nslkdd_df = preprocess_pipeline_model.transform(nslkdd_raw)\n",
    "nslkdd_df_test = preprocess_pipeline_model.transform(nslkdd_test_raw)\n"
   ]
  },
  {
   "cell_type": "code",
   "execution_count": 3,
   "id": "28086c4a",
   "metadata": {},
   "outputs": [
    {
     "name": "stderr",
     "output_type": "stream",
     "text": [
      "\r",
      "[Stage 8:>                                                          (0 + 1) / 1]\r"
     ]
    },
    {
     "name": "stdout",
     "output_type": "stream",
     "text": [
      "+--------------------+-------+\n",
      "|            features|outcome|\n",
      "+--------------------+-------+\n",
      "|(113,[1,13,14,17,...|    0.0|\n",
      "|(113,[1,13,14,17,...|    0.0|\n",
      "|(113,[13,14,15,17...|    1.0|\n",
      "|(113,[1,2,13,14,1...|    0.0|\n",
      "|(113,[1,2,13,14,1...|    0.0|\n",
      "|(113,[13,14,16,17...|    1.0|\n",
      "|(113,[13,14,15,17...|    1.0|\n",
      "|(113,[13,14,15,17...|    1.0|\n",
      "|(113,[13,14,15,17...|    1.0|\n",
      "|(113,[13,14,15,17...|    1.0|\n",
      "|(113,[13,14,16,17...|    1.0|\n",
      "|(113,[13,14,15,17...|    1.0|\n",
      "|(113,[1,2,13,14,1...|    0.0|\n",
      "|(113,[1,13,14,17,...|    4.0|\n",
      "|(113,[13,14,15,18...|    1.0|\n",
      "|(113,[13,14,15,17...|    1.0|\n",
      "|(113,[1,2,13,14,1...|    0.0|\n",
      "|(113,[1,13,14,17,...|    2.0|\n",
      "|(113,[1,2,13,14,1...|    0.0|\n",
      "|(113,[1,2,13,14,1...|    0.0|\n",
      "+--------------------+-------+\n",
      "only showing top 20 rows\n",
      "\n"
     ]
    },
    {
     "name": "stderr",
     "output_type": "stream",
     "text": [
      "\r",
      "                                                                                \r"
     ]
    }
   ],
   "source": [
    "nslkdd_df.show()"
   ]
  },
  {
   "cell_type": "markdown",
   "id": "0c8e6da9",
   "metadata": {},
   "source": [
    "## Q1.2"
   ]
  },
  {
   "cell_type": "code",
   "execution_count": 4,
   "id": "0b509ad0",
   "metadata": {},
   "outputs": [
    {
     "name": "stderr",
     "output_type": "stream",
     "text": [
      "                                                                                \r"
     ]
    }
   ],
   "source": [
    "to_array = udf(lambda v: v.toArray().tolist(), ArrayType(FloatType()))\n",
    "\n",
    "nslkdd_df_train = nslkdd_df \n",
    "nslkdd_df_validate,nslkdd_df_test = nslkdd_df_test.randomSplit([0.5,0.5])\n",
    "\n",
    "nslkdd_df_train_pandas = nslkdd_df_train.withColumn('features', to_array('features')).toPandas()\n",
    "nslkdd_df_validate_pandas = nslkdd_df_validate.withColumn('features', to_array('features')).toPandas()\n",
    "nslkdd_df_test_pandas = nslkdd_df_test.withColumn('features', to_array('features')).toPandas()"
   ]
  },
  {
   "cell_type": "code",
   "execution_count": 5,
   "id": "6d030e21",
   "metadata": {},
   "outputs": [
    {
     "name": "stderr",
     "output_type": "stream",
     "text": [
      "2022-11-07 14:03:37.981005: I tensorflow/core/platform/cpu_feature_guard.cc:193] This TensorFlow binary is optimized with oneAPI Deep Neural Network Library (oneDNN) to use the following CPU instructions in performance-critical operations:  AVX2 FMA\n",
      "To enable them in other operations, rebuild TensorFlow with the appropriate compiler flags.\n"
     ]
    }
   ],
   "source": [
    "import tensorflow as tf\n",
    "from tensorflow import keras \n",
    "\n",
    "# Converting the pandas DataFrame to tensors\n",
    "# Note we are using 3 data sets train, validate, test\n",
    "\n",
    "x_train = tf.constant(np.array(nslkdd_df_train_pandas['features'].values.tolist()))\n",
    "y_train = tf.constant(np.array(nslkdd_df_train_pandas['outcome'].values.tolist()))\n",
    "\n",
    "x_validate = tf.constant(np.array(nslkdd_df_validate_pandas['features'].values.tolist()))\n",
    "y_validate = tf.constant(np.array(nslkdd_df_validate_pandas['outcome'].values.tolist()))\n",
    "\n",
    "x_test = tf.constant(np.array(nslkdd_df_test_pandas['features'].values.tolist()))\n",
    "y_test = tf.constant(np.array(nslkdd_df_test_pandas['outcome'].values.tolist()))"
   ]
  },
  {
   "cell_type": "code",
   "execution_count": 6,
   "id": "6a8f7d58",
   "metadata": {},
   "outputs": [
    {
     "name": "stdout",
     "output_type": "stream",
     "text": [
      "Epoch 1/5\n",
      "3937/3937 - 4s - loss: 0.2219 - sparse_categorical_accuracy: 0.9356 - val_loss: 1.4200 - val_sparse_categorical_accuracy: 0.7448 - 4s/epoch - 981us/step\n",
      "Epoch 2/5\n",
      "3937/3937 - 3s - loss: 0.0748 - sparse_categorical_accuracy: 0.9766 - val_loss: 1.6924 - val_sparse_categorical_accuracy: 0.7398 - 3s/epoch - 823us/step\n",
      "Epoch 3/5\n",
      "3937/3937 - 3s - loss: 0.0509 - sparse_categorical_accuracy: 0.9834 - val_loss: 1.9222 - val_sparse_categorical_accuracy: 0.7662 - 3s/epoch - 870us/step\n",
      "Epoch 4/5\n",
      "3937/3937 - 3s - loss: 0.0429 - sparse_categorical_accuracy: 0.9849 - val_loss: 2.0552 - val_sparse_categorical_accuracy: 0.7667 - 3s/epoch - 849us/step\n",
      "Epoch 5/5\n",
      "3937/3937 - 3s - loss: 0.0373 - sparse_categorical_accuracy: 0.9877 - val_loss: 2.0741 - val_sparse_categorical_accuracy: 0.7601 - 3s/epoch - 857us/step\n"
     ]
    },
    {
     "data": {
      "text/plain": [
       "<keras.callbacks.History at 0x7f7ef25f1130>"
      ]
     },
     "execution_count": 6,
     "metadata": {},
     "output_type": "execute_result"
    }
   ],
   "source": [
    "model_multiclass = keras.Sequential( [keras.layers.Dense(10,activation='relu'),\n",
    "                           keras.layers.Dense(10,activation='relu'),\n",
    "                           keras.layers.Dense(10,activation='relu'),\n",
    "                           keras.layers.Dense(10,activation='relu') ,\n",
    "                           keras.layers.Dense(5)] )\n",
    "\n",
    "model_multiclass.compile(optimizer = 'sgd',\n",
    "    loss=keras.losses.SparseCategoricalCrossentropy(from_logits=True),\n",
    "    metrics=[keras.metrics.SparseCategoricalAccuracy()])\n",
    "\n",
    "model_multiclass.fit(x_train,y_train, epochs = 5,validation_data=(x_validate,y_validate),verbose = 2)"
   ]
  },
  {
   "cell_type": "code",
   "execution_count": 7,
   "id": "579951f7",
   "metadata": {},
   "outputs": [
    {
     "name": "stdout",
     "output_type": "stream",
     "text": [
      "351/351 - 0s - loss: 2.0598 - sparse_categorical_accuracy: 0.7570 - 260ms/epoch - 742us/step\n"
     ]
    },
    {
     "data": {
      "text/plain": [
       "[2.0597593784332275, 0.7569618225097656]"
      ]
     },
     "execution_count": 7,
     "metadata": {},
     "output_type": "execute_result"
    }
   ],
   "source": [
    "model_multiclass.evaluate(x_test, y_test, verbose=2)"
   ]
  },
  {
   "cell_type": "markdown",
   "id": "2bda3426",
   "metadata": {},
   "source": [
    "## Q1.3"
   ]
  },
  {
   "cell_type": "code",
   "execution_count": 12,
   "id": "c3ae6808",
   "metadata": {},
   "outputs": [
    {
     "name": "stdout",
     "output_type": "stream",
     "text": [
      "Epoch 1/20\n",
      "3937/3937 - 4s - loss: 0.0207 - sparse_categorical_accuracy: 0.9936 - val_loss: 2.9599 - val_sparse_categorical_accuracy: 0.7707 - 4s/epoch - 906us/step\n",
      "Epoch 2/20\n",
      "3937/3937 - 3s - loss: 0.0203 - sparse_categorical_accuracy: 0.9936 - val_loss: 3.1242 - val_sparse_categorical_accuracy: 0.7607 - 3s/epoch - 864us/step\n",
      "Epoch 3/20\n",
      "3937/3937 - 3s - loss: 0.0200 - sparse_categorical_accuracy: 0.9937 - val_loss: 3.0215 - val_sparse_categorical_accuracy: 0.7609 - 3s/epoch - 864us/step\n",
      "Epoch 4/20\n",
      "3937/3937 - 4s - loss: 0.0193 - sparse_categorical_accuracy: 0.9939 - val_loss: 3.1656 - val_sparse_categorical_accuracy: 0.7491 - 4s/epoch - 900us/step\n",
      "Epoch 5/20\n",
      "3937/3937 - 4s - loss: 0.0190 - sparse_categorical_accuracy: 0.9941 - val_loss: 3.2726 - val_sparse_categorical_accuracy: 0.7544 - 4s/epoch - 927us/step\n",
      "Epoch 6/20\n",
      "3937/3937 - 3s - loss: 0.0190 - sparse_categorical_accuracy: 0.9942 - val_loss: 3.1359 - val_sparse_categorical_accuracy: 0.7628 - 3s/epoch - 875us/step\n",
      "Epoch 7/20\n",
      "3937/3937 - 3s - loss: 0.0187 - sparse_categorical_accuracy: 0.9942 - val_loss: 3.2668 - val_sparse_categorical_accuracy: 0.7608 - 3s/epoch - 875us/step\n",
      "Epoch 8/20\n",
      "3937/3937 - 4s - loss: 0.0186 - sparse_categorical_accuracy: 0.9942 - val_loss: 3.2807 - val_sparse_categorical_accuracy: 0.7645 - 4s/epoch - 897us/step\n",
      "Epoch 9/20\n",
      "3937/3937 - 3s - loss: 0.0184 - sparse_categorical_accuracy: 0.9942 - val_loss: 3.2715 - val_sparse_categorical_accuracy: 0.7650 - 3s/epoch - 883us/step\n",
      "Epoch 10/20\n",
      "3937/3937 - 3s - loss: 0.0184 - sparse_categorical_accuracy: 0.9944 - val_loss: 3.4164 - val_sparse_categorical_accuracy: 0.7638 - 3s/epoch - 879us/step\n",
      "Epoch 11/20\n",
      "3937/3937 - 4s - loss: 0.0180 - sparse_categorical_accuracy: 0.9944 - val_loss: 3.5365 - val_sparse_categorical_accuracy: 0.7619 - 4s/epoch - 901us/step\n",
      "Epoch 12/20\n",
      "3937/3937 - 3s - loss: 0.0179 - sparse_categorical_accuracy: 0.9944 - val_loss: 3.2765 - val_sparse_categorical_accuracy: 0.7646 - 3s/epoch - 842us/step\n",
      "Epoch 13/20\n",
      "3937/3937 - 3s - loss: 0.0178 - sparse_categorical_accuracy: 0.9945 - val_loss: 3.3453 - val_sparse_categorical_accuracy: 0.7614 - 3s/epoch - 845us/step\n",
      "Epoch 14/20\n",
      "3937/3937 - 3s - loss: 0.0175 - sparse_categorical_accuracy: 0.9948 - val_loss: 3.5421 - val_sparse_categorical_accuracy: 0.7631 - 3s/epoch - 869us/step\n",
      "Epoch 15/20\n",
      "3937/3937 - 3s - loss: 0.0175 - sparse_categorical_accuracy: 0.9946 - val_loss: 3.5316 - val_sparse_categorical_accuracy: 0.7630 - 3s/epoch - 825us/step\n",
      "Epoch 16/20\n",
      "3937/3937 - 3s - loss: 0.0173 - sparse_categorical_accuracy: 0.9947 - val_loss: 3.5744 - val_sparse_categorical_accuracy: 0.7674 - 3s/epoch - 843us/step\n",
      "Epoch 17/20\n",
      "3937/3937 - 3s - loss: 0.0174 - sparse_categorical_accuracy: 0.9947 - val_loss: 3.5349 - val_sparse_categorical_accuracy: 0.7685 - 3s/epoch - 885us/step\n",
      "Epoch 18/20\n",
      "3937/3937 - 4s - loss: 0.0171 - sparse_categorical_accuracy: 0.9947 - val_loss: 3.5044 - val_sparse_categorical_accuracy: 0.7640 - 4s/epoch - 918us/step\n",
      "Epoch 19/20\n",
      "3937/3937 - 4s - loss: 0.0170 - sparse_categorical_accuracy: 0.9947 - val_loss: 3.5732 - val_sparse_categorical_accuracy: 0.7620 - 4s/epoch - 921us/step\n",
      "Epoch 20/20\n",
      "3937/3937 - 4s - loss: 0.0171 - sparse_categorical_accuracy: 0.9947 - val_loss: 3.3508 - val_sparse_categorical_accuracy: 0.7668 - 4s/epoch - 940us/step\n"
     ]
    },
    {
     "data": {
      "text/plain": [
       "<keras.callbacks.History at 0x7f7ee0f19820>"
      ]
     },
     "execution_count": 12,
     "metadata": {},
     "output_type": "execute_result"
    }
   ],
   "source": [
    "import datetime\n",
    "log_dir = \"logs14813/myfirstlog/\" + datetime.datetime.now().strftime(\"%Y%m%d-%H%M%S\")\n",
    "tensorboard_callback = tf.keras.callbacks.TensorBoard(log_dir=log_dir, histogram_freq=1)\n",
    "model_multiclass.fit(x=x_train, y=y_train, \n",
    "          epochs=20, verbose = 2,\n",
    "          validation_data=(x_validate, y_validate), \n",
    "          callbacks=[tensorboard_callback])"
   ]
  },
  {
   "cell_type": "code",
   "execution_count": 9,
   "id": "689b35b1",
   "metadata": {},
   "outputs": [],
   "source": [
    "import os\n",
    "os.environ['TENSORBOARD_BINARY'] = \"logs14813/myfirstlog/\""
   ]
  },
  {
   "cell_type": "code",
   "execution_count": 11,
   "id": "50bff4ac",
   "metadata": {},
   "outputs": [
    {
     "data": {
      "text/plain": [
       "Reusing TensorBoard on port 6006 (pid 5880), started 0:05:30 ago. (Use '!kill 5880' to kill it.)"
      ]
     },
     "metadata": {},
     "output_type": "display_data"
    },
    {
     "data": {
      "text/html": [
       "\n",
       "      <iframe id=\"tensorboard-frame-a0d705e51f72a45f\" width=\"100%\" height=\"800\" frameborder=\"0\">\n",
       "      </iframe>\n",
       "      <script>\n",
       "        (function() {\n",
       "          const frame = document.getElementById(\"tensorboard-frame-a0d705e51f72a45f\");\n",
       "          const url = new URL(\"/\", window.location);\n",
       "          const port = 6006;\n",
       "          if (port) {\n",
       "            url.port = port;\n",
       "          }\n",
       "          frame.src = url;\n",
       "        })();\n",
       "      </script>\n",
       "    "
      ],
      "text/plain": [
       "<IPython.core.display.HTML object>"
      ]
     },
     "metadata": {},
     "output_type": "display_data"
    }
   ],
   "source": [
    "%load_ext tensorboard\n",
    "%tensorboard --logdir logs14813/myfirstlog/"
   ]
  },
  {
   "cell_type": "markdown",
   "id": "f1f7e5b6",
   "metadata": {},
   "source": [
    "# Q2"
   ]
  },
  {
   "cell_type": "markdown",
   "id": "8830a72e",
   "metadata": {},
   "source": [
    "## Q2.1"
   ]
  },
  {
   "cell_type": "code",
   "execution_count": 13,
   "id": "ca26da80",
   "metadata": {},
   "outputs": [],
   "source": [
    "to_array = udf(lambda v: v.toArray().tolist(), ArrayType(FloatType()))\n",
    "\n",
    "nslkdd_df_train = nslkdd_df \n",
    "nslkdd_df_validate,nslkdd_df_test = nslkdd_df_test.randomSplit([0.5,0.5])"
   ]
  },
  {
   "cell_type": "code",
   "execution_count": 14,
   "id": "68e27fd8",
   "metadata": {},
   "outputs": [
    {
     "data": {
      "text/plain": [
       "131695"
      ]
     },
     "execution_count": 14,
     "metadata": {},
     "output_type": "execute_result"
    }
   ],
   "source": [
    "train = nslkdd_df_train.union(nslkdd_df_validate)\n",
    "train.count() "
   ]
  },
  {
   "cell_type": "code",
   "execution_count": 15,
   "id": "f677418c",
   "metadata": {},
   "outputs": [],
   "source": [
    "import pyspark.sql.functions as F\n",
    "train = train.orderBy(F.rand())"
   ]
  },
  {
   "cell_type": "code",
   "execution_count": 16,
   "id": "5df13317",
   "metadata": {},
   "outputs": [],
   "source": [
    "import pandas as pd"
   ]
  },
  {
   "cell_type": "code",
   "execution_count": 17,
   "id": "2fafe42b",
   "metadata": {},
   "outputs": [],
   "source": [
    "def crossvalidator_k_equal_6(hparams,logdir,train):\n",
    "    \n",
    "    # model\n",
    "    model = keras.Sequential()\n",
    "    for _ in range(hparams[HP_DEPTH]):\n",
    "        model.add(keras.layers.Dense(hparams[HP_WIDTH],activation='relu'))\n",
    "    model.add(keras.layers.Dense(5))\n",
    "    \n",
    "    model.compile(optimizer = 'sgd',\n",
    "                  loss=keras.losses.SparseCategoricalCrossentropy(from_logits=True),\n",
    "                  metrics=[keras.metrics.SparseCategoricalAccuracy()])\n",
    "    # data\n",
    "    #test = test.withColumn('features', to_array('features')).toPandas()\n",
    "    #x_test = tf.constant(np.array(nslkdd_df_test_pandas['features'].values.tolist()))\n",
    "    #y_test = tf.constant(np.array(nslkdd_df_test_pandas['outcome'].values.tolist()))\n",
    "    \n",
    "    cv1,cv2,cv3,cv4,cv5,cv6 = train.randomSplit([1/6, 1/6, 1/6, 1/6, 1/6, 1/6])\n",
    "    cv1_pandas = cv1.withColumn('features', to_array('features')).toPandas()\n",
    "    cv2_pandas = cv2.withColumn('features', to_array('features')).toPandas()\n",
    "    cv3_pandas = cv3.withColumn('features', to_array('features')).toPandas()\n",
    "    cv4_pandas = cv4.withColumn('features', to_array('features')).toPandas()\n",
    "    cv5_pandas = cv5.withColumn('features', to_array('features')).toPandas()\n",
    "    cv6_pandas = cv6.withColumn('features', to_array('features')).toPandas()\n",
    "    \n",
    "    \n",
    "    # for loop \n",
    "    cv = [cv1_pandas, cv2_pandas, cv3_pandas, cv4_pandas, cv5_pandas, cv6_pandas]\n",
    "    acc = []\n",
    "    n = 0\n",
    "    for i in cv:\n",
    "        #print('check1')\n",
    "        cvv = cv.copy()\n",
    "        #print('check2')\n",
    "        x_validate = tf.constant(np.array(i['features'].values.tolist()))\n",
    "        y_validate = tf.constant(np.array(i['outcome'].values.tolist()))\n",
    "        #print('check3')\n",
    "        del cvv[n]\n",
    "        n +=1\n",
    "        train_data = pd.concat(cvv,axis=0,join='outer')\n",
    "        #print('check4')\n",
    "        x_train = tf.constant(np.array(train_data['features'].values.tolist()))\n",
    "        y_train = tf.constant(np.array(train_data['outcome'].values.tolist()))\n",
    "\n",
    "        #print('check5')\n",
    "        history = model.fit(x_train, y_train, epochs=5, verbose = 2,\n",
    "                            callbacks=[tf.keras.callbacks.TensorBoard(log_dir=logdir, histogram_freq=1)],\n",
    "                            validation_data = (x_validate, y_validate))\n",
    "        #print('check6')\n",
    "        a = np.max(history.history[\"val_sparse_categorical_accuracy\"])\n",
    "        #print('a:',a)        \n",
    "        acc.append(a)\n",
    "    acc = np.array(acc)\n",
    "    return acc.mean()\n",
    "    \n"
   ]
  },
  {
   "cell_type": "code",
   "execution_count": 19,
   "id": "84c3c18a",
   "metadata": {},
   "outputs": [],
   "source": [
    "from tensorboard.plugins.hparams import api as hp\n",
    "\n",
    "HP_WIDTH = hp.HParam('NN_width', hp.Discrete([20]))\n",
    "HP_DEPTH = hp.HParam('NN_depth', hp.Discrete([4]))\n",
    "\n",
    "with tf.summary.create_file_writer('logs14813/hparam_tuning').as_default():\n",
    "    hp.hparams_config(\n",
    "        hparams=[HP_WIDTH, HP_DEPTH],\n",
    "        metrics=[hp.Metric(\"AUC\"),hp.Metric('Accuracy')],\n",
    "      )"
   ]
  },
  {
   "cell_type": "code",
   "execution_count": 20,
   "id": "c3896005",
   "metadata": {},
   "outputs": [
    {
     "name": "stderr",
     "output_type": "stream",
     "text": [
      "                                                                                \r"
     ]
    },
    {
     "name": "stdout",
     "output_type": "stream",
     "text": [
      "Epoch 1/5\n",
      "3429/3429 - 4s - loss: 0.2289 - sparse_categorical_accuracy: 0.9368 - val_loss: 0.1171 - val_sparse_categorical_accuracy: 0.9657 - 4s/epoch - 1ms/step\n",
      "Epoch 2/5\n",
      "3429/3429 - 3s - loss: 0.0921 - sparse_categorical_accuracy: 0.9706 - val_loss: 0.0834 - val_sparse_categorical_accuracy: 0.9734 - 3s/epoch - 954us/step\n",
      "Epoch 3/5\n",
      "3429/3429 - 3s - loss: 0.0681 - sparse_categorical_accuracy: 0.9794 - val_loss: 0.0876 - val_sparse_categorical_accuracy: 0.9724 - 3s/epoch - 984us/step\n",
      "Epoch 4/5\n",
      "3429/3429 - 3s - loss: 0.0576 - sparse_categorical_accuracy: 0.9837 - val_loss: 0.0905 - val_sparse_categorical_accuracy: 0.9809 - 3s/epoch - 950us/step\n",
      "Epoch 5/5\n",
      "3429/3429 - 4s - loss: 0.0532 - sparse_categorical_accuracy: 0.9850 - val_loss: 0.0549 - val_sparse_categorical_accuracy: 0.9836 - 4s/epoch - 1ms/step\n",
      "Epoch 1/5\n",
      "3424/3424 - 4s - loss: 0.0504 - sparse_categorical_accuracy: 0.9856 - val_loss: 0.0456 - val_sparse_categorical_accuracy: 0.9855 - 4s/epoch - 1ms/step\n",
      "Epoch 2/5\n",
      "3424/3424 - 4s - loss: 0.0471 - sparse_categorical_accuracy: 0.9864 - val_loss: 0.0416 - val_sparse_categorical_accuracy: 0.9873 - 4s/epoch - 1ms/step\n",
      "Epoch 3/5\n",
      "3424/3424 - 3s - loss: 0.0447 - sparse_categorical_accuracy: 0.9864 - val_loss: 0.0396 - val_sparse_categorical_accuracy: 0.9890 - 3s/epoch - 951us/step\n",
      "Epoch 4/5\n",
      "3424/3424 - 4s - loss: 0.0426 - sparse_categorical_accuracy: 0.9874 - val_loss: 0.0387 - val_sparse_categorical_accuracy: 0.9881 - 4s/epoch - 1ms/step\n",
      "Epoch 5/5\n",
      "3424/3424 - 4s - loss: 0.0411 - sparse_categorical_accuracy: 0.9877 - val_loss: 0.0380 - val_sparse_categorical_accuracy: 0.9888 - 4s/epoch - 1ms/step\n",
      "Epoch 1/5\n",
      "3440/3440 - 3s - loss: 0.0403 - sparse_categorical_accuracy: 0.9881 - val_loss: 0.0396 - val_sparse_categorical_accuracy: 0.9884 - 3s/epoch - 988us/step\n",
      "Epoch 2/5\n",
      "3440/3440 - 3s - loss: 0.0388 - sparse_categorical_accuracy: 0.9885 - val_loss: 0.0370 - val_sparse_categorical_accuracy: 0.9890 - 3s/epoch - 995us/step\n",
      "Epoch 3/5\n",
      "3440/3440 - 4s - loss: 0.0378 - sparse_categorical_accuracy: 0.9885 - val_loss: 0.0351 - val_sparse_categorical_accuracy: 0.9898 - 4s/epoch - 1ms/step\n",
      "Epoch 4/5\n",
      "3440/3440 - 3s - loss: 0.0368 - sparse_categorical_accuracy: 0.9891 - val_loss: 0.0376 - val_sparse_categorical_accuracy: 0.9879 - 3s/epoch - 976us/step\n",
      "Epoch 5/5\n",
      "3440/3440 - 3s - loss: 0.0360 - sparse_categorical_accuracy: 0.9892 - val_loss: 0.0314 - val_sparse_categorical_accuracy: 0.9907 - 3s/epoch - 975us/step\n",
      "Epoch 1/5\n",
      "3432/3432 - 3s - loss: 0.0356 - sparse_categorical_accuracy: 0.9892 - val_loss: 0.0328 - val_sparse_categorical_accuracy: 0.9897 - 3s/epoch - 992us/step\n",
      "Epoch 2/5\n",
      "3432/3432 - 3s - loss: 0.0351 - sparse_categorical_accuracy: 0.9894 - val_loss: 0.0334 - val_sparse_categorical_accuracy: 0.9887 - 3s/epoch - 1ms/step\n",
      "Epoch 3/5\n",
      "3432/3432 - 3s - loss: 0.0336 - sparse_categorical_accuracy: 0.9897 - val_loss: 0.0313 - val_sparse_categorical_accuracy: 0.9895 - 3s/epoch - 1ms/step\n",
      "Epoch 4/5\n",
      "3432/3432 - 3s - loss: 0.0332 - sparse_categorical_accuracy: 0.9898 - val_loss: 0.0313 - val_sparse_categorical_accuracy: 0.9906 - 3s/epoch - 991us/step\n",
      "Epoch 5/5\n",
      "3432/3432 - 3s - loss: 0.0326 - sparse_categorical_accuracy: 0.9900 - val_loss: 0.0326 - val_sparse_categorical_accuracy: 0.9900 - 3s/epoch - 986us/step\n",
      "Epoch 1/5\n",
      "3427/3427 - 4s - loss: 0.0306 - sparse_categorical_accuracy: 0.9905 - val_loss: 0.0403 - val_sparse_categorical_accuracy: 0.9871 - 4s/epoch - 1ms/step\n",
      "Epoch 2/5\n",
      "3427/3427 - 4s - loss: 0.0304 - sparse_categorical_accuracy: 0.9905 - val_loss: 0.0353 - val_sparse_categorical_accuracy: 0.9892 - 4s/epoch - 1ms/step\n",
      "Epoch 3/5\n",
      "3427/3427 - 4s - loss: 0.0298 - sparse_categorical_accuracy: 0.9903 - val_loss: 0.0359 - val_sparse_categorical_accuracy: 0.9890 - 4s/epoch - 1ms/step\n",
      "Epoch 4/5\n",
      "3427/3427 - 4s - loss: 0.0294 - sparse_categorical_accuracy: 0.9906 - val_loss: 0.0350 - val_sparse_categorical_accuracy: 0.9898 - 4s/epoch - 1ms/step\n",
      "Epoch 5/5\n",
      "3427/3427 - 3s - loss: 0.0287 - sparse_categorical_accuracy: 0.9908 - val_loss: 0.0372 - val_sparse_categorical_accuracy: 0.9883 - 3s/epoch - 992us/step\n",
      "Epoch 1/5\n",
      "3429/3429 - 4s - loss: 0.0303 - sparse_categorical_accuracy: 0.9905 - val_loss: 0.0284 - val_sparse_categorical_accuracy: 0.9906 - 4s/epoch - 1ms/step\n",
      "Epoch 2/5\n",
      "3429/3429 - 3s - loss: 0.0295 - sparse_categorical_accuracy: 0.9909 - val_loss: 0.0288 - val_sparse_categorical_accuracy: 0.9904 - 3s/epoch - 1ms/step\n",
      "Epoch 3/5\n",
      "3429/3429 - 4s - loss: 0.0291 - sparse_categorical_accuracy: 0.9909 - val_loss: 0.0290 - val_sparse_categorical_accuracy: 0.9912 - 4s/epoch - 1ms/step\n",
      "Epoch 4/5\n",
      "3429/3429 - 3s - loss: 0.0290 - sparse_categorical_accuracy: 0.9909 - val_loss: 0.0271 - val_sparse_categorical_accuracy: 0.9918 - 3s/epoch - 1ms/step\n",
      "Epoch 5/5\n",
      "3429/3429 - 3s - loss: 0.0285 - sparse_categorical_accuracy: 0.9910 - val_loss: 0.0278 - val_sparse_categorical_accuracy: 0.9913 - 3s/epoch - 1ms/step\n"
     ]
    }
   ],
   "source": [
    "hparams = {\n",
    "        HP_WIDTH: 20,\n",
    "        HP_DEPTH: 4,\n",
    "    }\n",
    "\n",
    "accuracy = crossvalidator_k_equal_6(hparams,log_dir,train)"
   ]
  },
  {
   "cell_type": "code",
   "execution_count": 23,
   "id": "f9cd1230",
   "metadata": {},
   "outputs": [
    {
     "name": "stdout",
     "output_type": "stream",
     "text": [
      "0.9892603754997253\n"
     ]
    }
   ],
   "source": [
    "print(accuracy)"
   ]
  },
  {
   "cell_type": "markdown",
   "id": "1f5892e2",
   "metadata": {},
   "source": [
    "## Q2.2"
   ]
  },
  {
   "cell_type": "code",
   "execution_count": 34,
   "id": "1a5c3706",
   "metadata": {},
   "outputs": [],
   "source": [
    "from tensorboard.plugins.hparams import api as hp\n",
    "\n",
    "HP_WIDTH = hp.HParam('NN_width', hp.Discrete([20,30]))\n",
    "HP_DEPTH = hp.HParam('NN_depth', hp.Discrete([4,6]))\n",
    "\n",
    "with tf.summary.create_file_writer('logs14813/hparam_tuning').as_default():\n",
    "    hp.hparams_config(\n",
    "        hparams=[HP_WIDTH, HP_DEPTH],\n",
    "        metrics=[hp.Metric('Accuracy')],\n",
    "      )\n"
   ]
  },
  {
   "cell_type": "code",
   "execution_count": 35,
   "id": "f29f9dff",
   "metadata": {
    "scrolled": false
   },
   "outputs": [
    {
     "name": "stdout",
     "output_type": "stream",
     "text": [
      "--- Starting trial: run-WIDTH20-DEPTH4\n",
      "{'NN_width': 20, 'NN_depth': 4}\n"
     ]
    },
    {
     "name": "stderr",
     "output_type": "stream",
     "text": [
      "                                                                                \r"
     ]
    },
    {
     "name": "stdout",
     "output_type": "stream",
     "text": [
      "Epoch 1/5\n",
      "3437/3437 - 4s - loss: 0.2054 - sparse_categorical_accuracy: 0.9390 - val_loss: 0.0944 - val_sparse_categorical_accuracy: 0.9680 - 4s/epoch - 1ms/step\n",
      "Epoch 2/5\n",
      "3437/3437 - 4s - loss: 0.0800 - sparse_categorical_accuracy: 0.9755 - val_loss: 0.0654 - val_sparse_categorical_accuracy: 0.9786 - 4s/epoch - 1ms/step\n",
      "Epoch 3/5\n",
      "3437/3437 - 4s - loss: 0.0631 - sparse_categorical_accuracy: 0.9816 - val_loss: 0.0576 - val_sparse_categorical_accuracy: 0.9815 - 4s/epoch - 1ms/step\n",
      "Epoch 4/5\n",
      "3437/3437 - 4s - loss: 0.0552 - sparse_categorical_accuracy: 0.9834 - val_loss: 0.0527 - val_sparse_categorical_accuracy: 0.9835 - 4s/epoch - 1ms/step\n",
      "Epoch 5/5\n",
      "3437/3437 - 4s - loss: 0.0506 - sparse_categorical_accuracy: 0.9847 - val_loss: 0.0481 - val_sparse_categorical_accuracy: 0.9862 - 4s/epoch - 1ms/step\n",
      "Epoch 1/5\n",
      "3431/3431 - 4s - loss: 0.0480 - sparse_categorical_accuracy: 0.9858 - val_loss: 0.0464 - val_sparse_categorical_accuracy: 0.9844 - 4s/epoch - 1ms/step\n",
      "Epoch 2/5\n",
      "3431/3431 - 4s - loss: 0.0453 - sparse_categorical_accuracy: 0.9866 - val_loss: 0.0438 - val_sparse_categorical_accuracy: 0.9871 - 4s/epoch - 1ms/step\n",
      "Epoch 3/5\n",
      "3431/3431 - 4s - loss: 0.0426 - sparse_categorical_accuracy: 0.9871 - val_loss: 0.0456 - val_sparse_categorical_accuracy: 0.9859 - 4s/epoch - 1ms/step\n",
      "Epoch 4/5\n",
      "3431/3431 - 4s - loss: 0.0409 - sparse_categorical_accuracy: 0.9875 - val_loss: 0.0404 - val_sparse_categorical_accuracy: 0.9880 - 4s/epoch - 1ms/step\n",
      "Epoch 5/5\n",
      "3431/3431 - 4s - loss: 0.0398 - sparse_categorical_accuracy: 0.9879 - val_loss: 0.0429 - val_sparse_categorical_accuracy: 0.9860 - 4s/epoch - 1ms/step\n",
      "Epoch 1/5\n",
      "3427/3427 - 3s - loss: 0.0392 - sparse_categorical_accuracy: 0.9878 - val_loss: 0.0340 - val_sparse_categorical_accuracy: 0.9896 - 3s/epoch - 992us/step\n",
      "Epoch 2/5\n",
      "3427/3427 - 3s - loss: 0.0384 - sparse_categorical_accuracy: 0.9881 - val_loss: 0.0362 - val_sparse_categorical_accuracy: 0.9886 - 3s/epoch - 986us/step\n",
      "Epoch 3/5\n",
      "3427/3427 - 5s - loss: 0.0369 - sparse_categorical_accuracy: 0.9885 - val_loss: 0.0323 - val_sparse_categorical_accuracy: 0.9909 - 5s/epoch - 1ms/step\n",
      "Epoch 4/5\n",
      "3427/3427 - 4s - loss: 0.0360 - sparse_categorical_accuracy: 0.9887 - val_loss: 0.0320 - val_sparse_categorical_accuracy: 0.9900 - 4s/epoch - 1ms/step\n",
      "Epoch 5/5\n",
      "3427/3427 - 4s - loss: 0.0349 - sparse_categorical_accuracy: 0.9891 - val_loss: 0.0346 - val_sparse_categorical_accuracy: 0.9886 - 4s/epoch - 1ms/step\n",
      "Epoch 1/5\n",
      "3426/3426 - 4s - loss: 0.0332 - sparse_categorical_accuracy: 0.9894 - val_loss: 0.0379 - val_sparse_categorical_accuracy: 0.9885 - 4s/epoch - 1ms/step\n",
      "Epoch 2/5\n",
      "3426/3426 - 4s - loss: 0.0326 - sparse_categorical_accuracy: 0.9896 - val_loss: 0.0362 - val_sparse_categorical_accuracy: 0.9890 - 4s/epoch - 1ms/step\n",
      "Epoch 3/5\n",
      "3426/3426 - 4s - loss: 0.0318 - sparse_categorical_accuracy: 0.9901 - val_loss: 0.0384 - val_sparse_categorical_accuracy: 0.9888 - 4s/epoch - 1ms/step\n",
      "Epoch 4/5\n",
      "3426/3426 - 4s - loss: 0.0311 - sparse_categorical_accuracy: 0.9901 - val_loss: 0.0368 - val_sparse_categorical_accuracy: 0.9888 - 4s/epoch - 1ms/step\n",
      "Epoch 5/5\n",
      "3426/3426 - 4s - loss: 0.0310 - sparse_categorical_accuracy: 0.9904 - val_loss: 0.0347 - val_sparse_categorical_accuracy: 0.9897 - 4s/epoch - 1ms/step\n",
      "Epoch 1/5\n",
      "3433/3433 - 4s - loss: 0.0317 - sparse_categorical_accuracy: 0.9899 - val_loss: 0.0289 - val_sparse_categorical_accuracy: 0.9914 - 4s/epoch - 1ms/step\n",
      "Epoch 2/5\n",
      "3433/3433 - 4s - loss: 0.0310 - sparse_categorical_accuracy: 0.9901 - val_loss: 0.0374 - val_sparse_categorical_accuracy: 0.9887 - 4s/epoch - 1ms/step\n",
      "Epoch 3/5\n",
      "3433/3433 - 4s - loss: 0.0304 - sparse_categorical_accuracy: 0.9904 - val_loss: 0.0293 - val_sparse_categorical_accuracy: 0.9921 - 4s/epoch - 1ms/step\n",
      "Epoch 4/5\n",
      "3433/3433 - 4s - loss: 0.0297 - sparse_categorical_accuracy: 0.9905 - val_loss: 0.0291 - val_sparse_categorical_accuracy: 0.9916 - 4s/epoch - 1ms/step\n",
      "Epoch 5/5\n",
      "3433/3433 - 4s - loss: 0.0292 - sparse_categorical_accuracy: 0.9905 - val_loss: 0.0311 - val_sparse_categorical_accuracy: 0.9918 - 4s/epoch - 1ms/step\n",
      "Epoch 1/5\n",
      "3426/3426 - 4s - loss: 0.0303 - sparse_categorical_accuracy: 0.9907 - val_loss: 0.0268 - val_sparse_categorical_accuracy: 0.9915 - 4s/epoch - 1ms/step\n",
      "Epoch 2/5\n",
      "3426/3426 - 4s - loss: 0.0294 - sparse_categorical_accuracy: 0.9907 - val_loss: 0.0270 - val_sparse_categorical_accuracy: 0.9906 - 4s/epoch - 1ms/step\n",
      "Epoch 3/5\n",
      "3426/3426 - 5s - loss: 0.0289 - sparse_categorical_accuracy: 0.9909 - val_loss: 0.0259 - val_sparse_categorical_accuracy: 0.9922 - 5s/epoch - 1ms/step\n",
      "Epoch 4/5\n",
      "3426/3426 - 4s - loss: 0.0286 - sparse_categorical_accuracy: 0.9907 - val_loss: 0.0284 - val_sparse_categorical_accuracy: 0.9905 - 4s/epoch - 1ms/step\n",
      "Epoch 5/5\n",
      "3426/3426 - 4s - loss: 0.0285 - sparse_categorical_accuracy: 0.9910 - val_loss: 0.0257 - val_sparse_categorical_accuracy: 0.9914 - 4s/epoch - 1ms/step\n",
      "--- Starting trial: run-WIDTH20-DEPTH6\n",
      "{'NN_width': 20, 'NN_depth': 6}\n"
     ]
    },
    {
     "name": "stderr",
     "output_type": "stream",
     "text": [
      "                                                                                \r"
     ]
    },
    {
     "name": "stdout",
     "output_type": "stream",
     "text": [
      "Epoch 1/5\n",
      "3426/3426 - 4s - loss: 0.2940 - sparse_categorical_accuracy: 0.9183 - val_loss: 0.1424 - val_sparse_categorical_accuracy: 0.9636 - 4s/epoch - 1ms/step\n",
      "Epoch 2/5\n",
      "3426/3426 - 4s - loss: 0.1079 - sparse_categorical_accuracy: 0.9686 - val_loss: 0.0751 - val_sparse_categorical_accuracy: 0.9756 - 4s/epoch - 1ms/step\n",
      "Epoch 3/5\n",
      "3426/3426 - 4s - loss: 0.0705 - sparse_categorical_accuracy: 0.9776 - val_loss: 0.0653 - val_sparse_categorical_accuracy: 0.9820 - 4s/epoch - 1ms/step\n",
      "Epoch 4/5\n",
      "3426/3426 - 4s - loss: 0.0586 - sparse_categorical_accuracy: 0.9820 - val_loss: 0.0656 - val_sparse_categorical_accuracy: 0.9793 - 4s/epoch - 1ms/step\n",
      "Epoch 5/5\n",
      "3426/3426 - 4s - loss: 0.0524 - sparse_categorical_accuracy: 0.9848 - val_loss: 0.0497 - val_sparse_categorical_accuracy: 0.9870 - 4s/epoch - 1ms/step\n",
      "Epoch 1/5\n",
      "3430/3430 - 5s - loss: 0.0486 - sparse_categorical_accuracy: 0.9859 - val_loss: 0.0429 - val_sparse_categorical_accuracy: 0.9871 - 5s/epoch - 1ms/step\n",
      "Epoch 2/5\n",
      "3430/3430 - 6s - loss: 0.0457 - sparse_categorical_accuracy: 0.9867 - val_loss: 0.0430 - val_sparse_categorical_accuracy: 0.9868 - 6s/epoch - 2ms/step\n",
      "Epoch 3/5\n",
      "3430/3430 - 4s - loss: 0.0421 - sparse_categorical_accuracy: 0.9874 - val_loss: 0.0455 - val_sparse_categorical_accuracy: 0.9877 - 4s/epoch - 1ms/step\n",
      "Epoch 4/5\n",
      "3430/3430 - 5s - loss: 0.0400 - sparse_categorical_accuracy: 0.9879 - val_loss: 0.0402 - val_sparse_categorical_accuracy: 0.9875 - 5s/epoch - 1ms/step\n",
      "Epoch 5/5\n",
      "3430/3430 - 4s - loss: 0.0391 - sparse_categorical_accuracy: 0.9884 - val_loss: 0.0385 - val_sparse_categorical_accuracy: 0.9876 - 4s/epoch - 1ms/step\n",
      "Epoch 1/5\n",
      "3425/3425 - 4s - loss: 0.0380 - sparse_categorical_accuracy: 0.9887 - val_loss: 0.0402 - val_sparse_categorical_accuracy: 0.9875 - 4s/epoch - 1ms/step\n",
      "Epoch 2/5\n",
      "3425/3425 - 4s - loss: 0.0363 - sparse_categorical_accuracy: 0.9889 - val_loss: 0.0377 - val_sparse_categorical_accuracy: 0.9888 - 4s/epoch - 1ms/step\n",
      "Epoch 3/5\n",
      "3425/3425 - 4s - loss: 0.0349 - sparse_categorical_accuracy: 0.9893 - val_loss: 0.0354 - val_sparse_categorical_accuracy: 0.9890 - 4s/epoch - 1ms/step\n",
      "Epoch 4/5\n",
      "3425/3425 - 4s - loss: 0.0337 - sparse_categorical_accuracy: 0.9896 - val_loss: 0.0405 - val_sparse_categorical_accuracy: 0.9867 - 4s/epoch - 1ms/step\n",
      "Epoch 5/5\n",
      "3425/3425 - 4s - loss: 0.0328 - sparse_categorical_accuracy: 0.9897 - val_loss: 0.0343 - val_sparse_categorical_accuracy: 0.9899 - 4s/epoch - 1ms/step\n",
      "Epoch 1/5\n",
      "3434/3434 - 4s - loss: 0.0321 - sparse_categorical_accuracy: 0.9896 - val_loss: 0.0342 - val_sparse_categorical_accuracy: 0.9902 - 4s/epoch - 1ms/step\n",
      "Epoch 2/5\n",
      "3434/3434 - 4s - loss: 0.0308 - sparse_categorical_accuracy: 0.9903 - val_loss: 0.0356 - val_sparse_categorical_accuracy: 0.9898 - 4s/epoch - 1ms/step\n",
      "Epoch 3/5\n",
      "3434/3434 - 5s - loss: 0.0302 - sparse_categorical_accuracy: 0.9902 - val_loss: 0.0620 - val_sparse_categorical_accuracy: 0.9761 - 5s/epoch - 1ms/step\n",
      "Epoch 4/5\n",
      "3434/3434 - 5s - loss: 0.0294 - sparse_categorical_accuracy: 0.9904 - val_loss: 0.0322 - val_sparse_categorical_accuracy: 0.9912 - 5s/epoch - 1ms/step\n",
      "Epoch 5/5\n",
      "3434/3434 - 4s - loss: 0.0292 - sparse_categorical_accuracy: 0.9905 - val_loss: 0.0335 - val_sparse_categorical_accuracy: 0.9903 - 4s/epoch - 1ms/step\n",
      "Epoch 1/5\n",
      "3432/3432 - 6s - loss: 0.0301 - sparse_categorical_accuracy: 0.9905 - val_loss: 0.0261 - val_sparse_categorical_accuracy: 0.9918 - 6s/epoch - 2ms/step\n",
      "Epoch 2/5\n",
      "3432/3432 - 4s - loss: 0.0291 - sparse_categorical_accuracy: 0.9910 - val_loss: 0.0246 - val_sparse_categorical_accuracy: 0.9919 - 4s/epoch - 1ms/step\n",
      "Epoch 3/5\n",
      "3432/3432 - 6s - loss: 0.0286 - sparse_categorical_accuracy: 0.9908 - val_loss: 0.0240 - val_sparse_categorical_accuracy: 0.9922 - 6s/epoch - 2ms/step\n",
      "Epoch 4/5\n",
      "3432/3432 - 5s - loss: 0.0279 - sparse_categorical_accuracy: 0.9910 - val_loss: 0.0273 - val_sparse_categorical_accuracy: 0.9923 - 5s/epoch - 1ms/step\n",
      "Epoch 5/5\n",
      "3432/3432 - 4s - loss: 0.0278 - sparse_categorical_accuracy: 0.9912 - val_loss: 0.0271 - val_sparse_categorical_accuracy: 0.9908 - 4s/epoch - 1ms/step\n",
      "Epoch 1/5\n",
      "3433/3433 - 4s - loss: 0.0271 - sparse_categorical_accuracy: 0.9912 - val_loss: 0.0248 - val_sparse_categorical_accuracy: 0.9924 - 4s/epoch - 1ms/step\n",
      "Epoch 2/5\n",
      "3433/3433 - 4s - loss: 0.0265 - sparse_categorical_accuracy: 0.9917 - val_loss: 0.0273 - val_sparse_categorical_accuracy: 0.9918 - 4s/epoch - 1ms/step\n",
      "Epoch 3/5\n",
      "3433/3433 - 4s - loss: 0.0260 - sparse_categorical_accuracy: 0.9918 - val_loss: 0.0285 - val_sparse_categorical_accuracy: 0.9914 - 4s/epoch - 1ms/step\n",
      "Epoch 4/5\n",
      "3433/3433 - 4s - loss: 0.0253 - sparse_categorical_accuracy: 0.9922 - val_loss: 0.0283 - val_sparse_categorical_accuracy: 0.9922 - 4s/epoch - 1ms/step\n",
      "Epoch 5/5\n",
      "3433/3433 - 4s - loss: 0.0253 - sparse_categorical_accuracy: 0.9921 - val_loss: 0.0285 - val_sparse_categorical_accuracy: 0.9914 - 4s/epoch - 1ms/step\n",
      "--- Starting trial: run-WIDTH30-DEPTH4\n",
      "{'NN_width': 30, 'NN_depth': 4}\n"
     ]
    },
    {
     "name": "stderr",
     "output_type": "stream",
     "text": [
      "                                                                                \r"
     ]
    },
    {
     "name": "stdout",
     "output_type": "stream",
     "text": [
      "Epoch 1/5\n",
      "3433/3433 - 4s - loss: 0.2006 - sparse_categorical_accuracy: 0.9437 - val_loss: 0.0996 - val_sparse_categorical_accuracy: 0.9689 - 4s/epoch - 1ms/step\n",
      "Epoch 2/5\n",
      "3433/3433 - 3s - loss: 0.0776 - sparse_categorical_accuracy: 0.9734 - val_loss: 0.0672 - val_sparse_categorical_accuracy: 0.9825 - 3s/epoch - 1ms/step\n",
      "Epoch 3/5\n",
      "3433/3433 - 3s - loss: 0.0579 - sparse_categorical_accuracy: 0.9832 - val_loss: 0.0597 - val_sparse_categorical_accuracy: 0.9834 - 3s/epoch - 966us/step\n",
      "Epoch 4/5\n",
      "3433/3433 - 4s - loss: 0.0497 - sparse_categorical_accuracy: 0.9851 - val_loss: 0.0530 - val_sparse_categorical_accuracy: 0.9860 - 4s/epoch - 1ms/step\n",
      "Epoch 5/5\n",
      "3433/3433 - 4s - loss: 0.0455 - sparse_categorical_accuracy: 0.9864 - val_loss: 0.0506 - val_sparse_categorical_accuracy: 0.9847 - 4s/epoch - 1ms/step\n",
      "Epoch 1/5\n",
      "3424/3424 - 4s - loss: 0.0425 - sparse_categorical_accuracy: 0.9872 - val_loss: 0.0435 - val_sparse_categorical_accuracy: 0.9861 - 4s/epoch - 1ms/step\n",
      "Epoch 2/5\n",
      "3424/3424 - 4s - loss: 0.0404 - sparse_categorical_accuracy: 0.9881 - val_loss: 0.0401 - val_sparse_categorical_accuracy: 0.9863 - 4s/epoch - 1ms/step\n",
      "Epoch 3/5\n",
      "3424/3424 - 4s - loss: 0.0378 - sparse_categorical_accuracy: 0.9884 - val_loss: 0.0389 - val_sparse_categorical_accuracy: 0.9882 - 4s/epoch - 1ms/step\n",
      "Epoch 4/5\n",
      "3424/3424 - 4s - loss: 0.0361 - sparse_categorical_accuracy: 0.9889 - val_loss: 0.0425 - val_sparse_categorical_accuracy: 0.9869 - 4s/epoch - 1ms/step\n",
      "Epoch 5/5\n",
      "3424/3424 - 4s - loss: 0.0347 - sparse_categorical_accuracy: 0.9893 - val_loss: 0.0375 - val_sparse_categorical_accuracy: 0.9885 - 4s/epoch - 1ms/step\n",
      "Epoch 1/5\n",
      "3429/3429 - 4s - loss: 0.0342 - sparse_categorical_accuracy: 0.9895 - val_loss: 0.0324 - val_sparse_categorical_accuracy: 0.9902 - 4s/epoch - 1ms/step\n",
      "Epoch 2/5\n",
      "3429/3429 - 4s - loss: 0.0328 - sparse_categorical_accuracy: 0.9898 - val_loss: 0.0345 - val_sparse_categorical_accuracy: 0.9902 - 4s/epoch - 1ms/step\n",
      "Epoch 3/5\n",
      "3429/3429 - 4s - loss: 0.0320 - sparse_categorical_accuracy: 0.9900 - val_loss: 0.0333 - val_sparse_categorical_accuracy: 0.9904 - 4s/epoch - 1ms/step\n",
      "Epoch 4/5\n",
      "3429/3429 - 5s - loss: 0.0313 - sparse_categorical_accuracy: 0.9902 - val_loss: 0.0339 - val_sparse_categorical_accuracy: 0.9888 - 5s/epoch - 2ms/step\n",
      "Epoch 5/5\n",
      "3429/3429 - 5s - loss: 0.0303 - sparse_categorical_accuracy: 0.9904 - val_loss: 0.0317 - val_sparse_categorical_accuracy: 0.9909 - 5s/epoch - 1ms/step\n",
      "Epoch 1/5\n",
      "3426/3426 - 5s - loss: 0.0299 - sparse_categorical_accuracy: 0.9908 - val_loss: 0.0309 - val_sparse_categorical_accuracy: 0.9902 - 5s/epoch - 1ms/step\n",
      "Epoch 2/5\n",
      "3426/3426 - 4s - loss: 0.0297 - sparse_categorical_accuracy: 0.9909 - val_loss: 0.0321 - val_sparse_categorical_accuracy: 0.9898 - 4s/epoch - 1ms/step\n",
      "Epoch 3/5\n",
      "3426/3426 - 3s - loss: 0.0290 - sparse_categorical_accuracy: 0.9911 - val_loss: 0.0316 - val_sparse_categorical_accuracy: 0.9907 - 3s/epoch - 989us/step\n",
      "Epoch 4/5\n",
      "3426/3426 - 3s - loss: 0.0283 - sparse_categorical_accuracy: 0.9912 - val_loss: 0.0290 - val_sparse_categorical_accuracy: 0.9913 - 3s/epoch - 975us/step\n",
      "Epoch 5/5\n",
      "3426/3426 - 3s - loss: 0.0276 - sparse_categorical_accuracy: 0.9917 - val_loss: 0.0328 - val_sparse_categorical_accuracy: 0.9904 - 3s/epoch - 980us/step\n",
      "Epoch 1/5\n",
      "3439/3439 - 4s - loss: 0.0288 - sparse_categorical_accuracy: 0.9910 - val_loss: 0.0310 - val_sparse_categorical_accuracy: 0.9898 - 4s/epoch - 1ms/step\n",
      "Epoch 2/5\n",
      "3439/3439 - 3s - loss: 0.0276 - sparse_categorical_accuracy: 0.9915 - val_loss: 0.0245 - val_sparse_categorical_accuracy: 0.9928 - 3s/epoch - 995us/step\n",
      "Epoch 3/5\n",
      "3439/3439 - 4s - loss: 0.0274 - sparse_categorical_accuracy: 0.9916 - val_loss: 0.0253 - val_sparse_categorical_accuracy: 0.9919 - 4s/epoch - 1ms/step\n",
      "Epoch 4/5\n",
      "3439/3439 - 3s - loss: 0.0268 - sparse_categorical_accuracy: 0.9919 - val_loss: 0.0309 - val_sparse_categorical_accuracy: 0.9891 - 3s/epoch - 982us/step\n",
      "Epoch 5/5\n",
      "3439/3439 - 3s - loss: 0.0266 - sparse_categorical_accuracy: 0.9918 - val_loss: 0.0274 - val_sparse_categorical_accuracy: 0.9915 - 3s/epoch - 939us/step\n",
      "Epoch 1/5\n",
      "3429/3429 - 3s - loss: 0.0264 - sparse_categorical_accuracy: 0.9921 - val_loss: 0.0227 - val_sparse_categorical_accuracy: 0.9926 - 3s/epoch - 975us/step\n",
      "Epoch 2/5\n",
      "3429/3429 - 3s - loss: 0.0255 - sparse_categorical_accuracy: 0.9920 - val_loss: 0.0247 - val_sparse_categorical_accuracy: 0.9913 - 3s/epoch - 997us/step\n",
      "Epoch 3/5\n",
      "3429/3429 - 3s - loss: 0.0254 - sparse_categorical_accuracy: 0.9923 - val_loss: 0.0228 - val_sparse_categorical_accuracy: 0.9929 - 3s/epoch - 1ms/step\n",
      "Epoch 4/5\n",
      "3429/3429 - 4s - loss: 0.0250 - sparse_categorical_accuracy: 0.9924 - val_loss: 0.0235 - val_sparse_categorical_accuracy: 0.9930 - 4s/epoch - 1ms/step\n",
      "Epoch 5/5\n",
      "3429/3429 - 4s - loss: 0.0248 - sparse_categorical_accuracy: 0.9925 - val_loss: 0.0235 - val_sparse_categorical_accuracy: 0.9929 - 4s/epoch - 1ms/step\n",
      "--- Starting trial: run-WIDTH30-DEPTH6\n",
      "{'NN_width': 30, 'NN_depth': 6}\n"
     ]
    },
    {
     "name": "stderr",
     "output_type": "stream",
     "text": [
      "                                                                                \r"
     ]
    },
    {
     "name": "stdout",
     "output_type": "stream",
     "text": [
      "Epoch 1/5\n",
      "3425/3425 - 4s - loss: 0.1988 - sparse_categorical_accuracy: 0.9400 - val_loss: 0.0811 - val_sparse_categorical_accuracy: 0.9726 - 4s/epoch - 1ms/step\n",
      "Epoch 2/5\n",
      "3425/3425 - 4s - loss: 0.0667 - sparse_categorical_accuracy: 0.9806 - val_loss: 0.0636 - val_sparse_categorical_accuracy: 0.9791 - 4s/epoch - 1ms/step\n",
      "Epoch 3/5\n",
      "3425/3425 - 4s - loss: 0.0528 - sparse_categorical_accuracy: 0.9846 - val_loss: 0.0486 - val_sparse_categorical_accuracy: 0.9863 - 4s/epoch - 1ms/step\n",
      "Epoch 4/5\n",
      "3425/3425 - 4s - loss: 0.0459 - sparse_categorical_accuracy: 0.9860 - val_loss: 0.0461 - val_sparse_categorical_accuracy: 0.9870 - 4s/epoch - 1ms/step\n",
      "Epoch 5/5\n",
      "3425/3425 - 4s - loss: 0.0422 - sparse_categorical_accuracy: 0.9868 - val_loss: 0.0397 - val_sparse_categorical_accuracy: 0.9888 - 4s/epoch - 1ms/step\n",
      "Epoch 1/5\n",
      "3434/3434 - 4s - loss: 0.0404 - sparse_categorical_accuracy: 0.9874 - val_loss: 0.0384 - val_sparse_categorical_accuracy: 0.9882 - 4s/epoch - 1ms/step\n",
      "Epoch 2/5\n",
      "3434/3434 - 4s - loss: 0.0381 - sparse_categorical_accuracy: 0.9879 - val_loss: 0.0347 - val_sparse_categorical_accuracy: 0.9897 - 4s/epoch - 1ms/step\n",
      "Epoch 3/5\n",
      "3434/3434 - 4s - loss: 0.0356 - sparse_categorical_accuracy: 0.9886 - val_loss: 0.0367 - val_sparse_categorical_accuracy: 0.9888 - 4s/epoch - 1ms/step\n",
      "Epoch 4/5\n",
      "3434/3434 - 4s - loss: 0.0343 - sparse_categorical_accuracy: 0.9890 - val_loss: 0.0356 - val_sparse_categorical_accuracy: 0.9898 - 4s/epoch - 1ms/step\n",
      "Epoch 5/5\n",
      "3434/3434 - 5s - loss: 0.0332 - sparse_categorical_accuracy: 0.9891 - val_loss: 0.0475 - val_sparse_categorical_accuracy: 0.9867 - 5s/epoch - 2ms/step\n",
      "Epoch 1/5\n",
      "3437/3437 - 5s - loss: 0.0329 - sparse_categorical_accuracy: 0.9897 - val_loss: 0.0312 - val_sparse_categorical_accuracy: 0.9902 - 5s/epoch - 1ms/step\n",
      "Epoch 2/5\n",
      "3437/3437 - 4s - loss: 0.0322 - sparse_categorical_accuracy: 0.9898 - val_loss: 0.0290 - val_sparse_categorical_accuracy: 0.9907 - 4s/epoch - 1ms/step\n",
      "Epoch 3/5\n",
      "3437/3437 - 4s - loss: 0.0312 - sparse_categorical_accuracy: 0.9902 - val_loss: 0.0278 - val_sparse_categorical_accuracy: 0.9914 - 4s/epoch - 1ms/step\n",
      "Epoch 4/5\n",
      "3437/3437 - 4s - loss: 0.0302 - sparse_categorical_accuracy: 0.9902 - val_loss: 0.0317 - val_sparse_categorical_accuracy: 0.9896 - 4s/epoch - 1ms/step\n",
      "Epoch 5/5\n",
      "3437/3437 - 4s - loss: 0.0294 - sparse_categorical_accuracy: 0.9905 - val_loss: 0.0276 - val_sparse_categorical_accuracy: 0.9911 - 4s/epoch - 1ms/step\n",
      "Epoch 1/5\n",
      "3433/3433 - 4s - loss: 0.0289 - sparse_categorical_accuracy: 0.9907 - val_loss: 0.0307 - val_sparse_categorical_accuracy: 0.9892 - 4s/epoch - 1ms/step\n",
      "Epoch 2/5\n",
      "3433/3433 - 4s - loss: 0.0280 - sparse_categorical_accuracy: 0.9910 - val_loss: 0.0264 - val_sparse_categorical_accuracy: 0.9915 - 4s/epoch - 1ms/step\n",
      "Epoch 3/5\n",
      "3433/3433 - 4s - loss: 0.0271 - sparse_categorical_accuracy: 0.9913 - val_loss: 0.0268 - val_sparse_categorical_accuracy: 0.9916 - 4s/epoch - 1ms/step\n",
      "Epoch 4/5\n",
      "3433/3433 - 4s - loss: 0.0268 - sparse_categorical_accuracy: 0.9918 - val_loss: 0.0269 - val_sparse_categorical_accuracy: 0.9908 - 4s/epoch - 1ms/step\n",
      "Epoch 5/5\n",
      "3433/3433 - 7s - loss: 0.0260 - sparse_categorical_accuracy: 0.9916 - val_loss: 0.0287 - val_sparse_categorical_accuracy: 0.9911 - 7s/epoch - 2ms/step\n",
      "Epoch 1/5\n",
      "3424/3424 - 4s - loss: 0.0257 - sparse_categorical_accuracy: 0.9917 - val_loss: 0.0268 - val_sparse_categorical_accuracy: 0.9914 - 4s/epoch - 1ms/step\n",
      "Epoch 2/5\n",
      "3424/3424 - 5s - loss: 0.0259 - sparse_categorical_accuracy: 0.9916 - val_loss: 0.0243 - val_sparse_categorical_accuracy: 0.9923 - 5s/epoch - 2ms/step\n",
      "Epoch 3/5\n",
      "3424/3424 - 4s - loss: 0.0251 - sparse_categorical_accuracy: 0.9920 - val_loss: 0.0240 - val_sparse_categorical_accuracy: 0.9926 - 4s/epoch - 1ms/step\n",
      "Epoch 4/5\n",
      "3424/3424 - 4s - loss: 0.0255 - sparse_categorical_accuracy: 0.9919 - val_loss: 0.0256 - val_sparse_categorical_accuracy: 0.9912 - 4s/epoch - 1ms/step\n",
      "Epoch 5/5\n",
      "3424/3424 - 4s - loss: 0.0245 - sparse_categorical_accuracy: 0.9921 - val_loss: 0.0254 - val_sparse_categorical_accuracy: 0.9922 - 4s/epoch - 1ms/step\n",
      "Epoch 1/5\n",
      "3428/3428 - 4s - loss: 0.0234 - sparse_categorical_accuracy: 0.9924 - val_loss: 0.0274 - val_sparse_categorical_accuracy: 0.9916 - 4s/epoch - 1ms/step\n",
      "Epoch 2/5\n",
      "3428/3428 - 4s - loss: 0.0231 - sparse_categorical_accuracy: 0.9925 - val_loss: 0.0246 - val_sparse_categorical_accuracy: 0.9925 - 4s/epoch - 1ms/step\n",
      "Epoch 3/5\n",
      "3428/3428 - 3s - loss: 0.0227 - sparse_categorical_accuracy: 0.9927 - val_loss: 0.0308 - val_sparse_categorical_accuracy: 0.9896 - 3s/epoch - 1ms/step\n",
      "Epoch 4/5\n",
      "3428/3428 - 3s - loss: 0.0221 - sparse_categorical_accuracy: 0.9928 - val_loss: 0.0237 - val_sparse_categorical_accuracy: 0.9929 - 3s/epoch - 1ms/step\n",
      "Epoch 5/5\n",
      "3428/3428 - 4s - loss: 0.0225 - sparse_categorical_accuracy: 0.9928 - val_loss: 0.0239 - val_sparse_categorical_accuracy: 0.9930 - 4s/epoch - 1ms/step\n"
     ]
    }
   ],
   "source": [
    "accuracy_list = []\n",
    "for hp_width in HP_WIDTH.domain.values:\n",
    "    for hp_depth in (HP_DEPTH.domain.values):\n",
    "        hparams = {\n",
    "            HP_WIDTH: hp_width,\n",
    "            HP_DEPTH: hp_depth,\n",
    "        }\n",
    "        run_name = f\"run-WIDTH{int(hparams[HP_WIDTH])}-DEPTH{hparams[HP_DEPTH]}\"\n",
    "        print('--- Starting trial: %s' % run_name)\n",
    "        print({h.name: hparams[h] for h in hparams})\n",
    "\n",
    "        run_dir = 'logs14813/hparam_tuning/' + run_name\n",
    "        accuracy = crossvalidator_k_equal_6(hparams,run_dir,train)\n",
    "        accuracy_list.append(accuracy)\n",
    "\n",
    "        with tf.summary.create_file_writer(run_dir).as_default():\n",
    "            hp.hparams(hparams)  # record the values used in this trial\n",
    "            tf.summary.scalar(\"Accuracy\", accuracy, step=1)"
   ]
  },
  {
   "cell_type": "code",
   "execution_count": 36,
   "id": "965e63f2",
   "metadata": {},
   "outputs": [
    {
     "data": {
      "text/plain": [
       "Reusing TensorBoard on port 6007 (pid 6599), started 0:39:43 ago. (Use '!kill 6599' to kill it.)"
      ]
     },
     "metadata": {},
     "output_type": "display_data"
    },
    {
     "data": {
      "text/html": [
       "\n",
       "      <iframe id=\"tensorboard-frame-e3ba98b4743e43ba\" width=\"100%\" height=\"800\" frameborder=\"0\">\n",
       "      </iframe>\n",
       "      <script>\n",
       "        (function() {\n",
       "          const frame = document.getElementById(\"tensorboard-frame-e3ba98b4743e43ba\");\n",
       "          const url = new URL(\"/\", window.location);\n",
       "          const port = 6007;\n",
       "          if (port) {\n",
       "            url.port = port;\n",
       "          }\n",
       "          frame.src = url;\n",
       "        })();\n",
       "      </script>\n",
       "    "
      ],
      "text/plain": [
       "<IPython.core.display.HTML object>"
      ]
     },
     "metadata": {},
     "output_type": "display_data"
    }
   ],
   "source": [
    "%tensorboard --logdir logs14813/hparam_tuning/"
   ]
  },
  {
   "cell_type": "markdown",
   "id": "02317a74",
   "metadata": {},
   "source": [
    "## Q3.3"
   ]
  },
  {
   "cell_type": "code",
   "execution_count": 37,
   "id": "ed45a5ac",
   "metadata": {},
   "outputs": [
    {
     "name": "stdout",
     "output_type": "stream",
     "text": [
      "[0.9898701012134552, 0.9900753696759542, 0.9904125531514486, 0.9912060697873434]\n"
     ]
    }
   ],
   "source": [
    "print(accuracy_list)"
   ]
  },
  {
   "cell_type": "raw",
   "id": "0f54b5d2",
   "metadata": {},
   "source": [
    "Based on the results, all combiantions of values of hyperparameters would result in similr accuracy. "
   ]
  },
  {
   "cell_type": "code",
   "execution_count": null,
   "id": "b8261153",
   "metadata": {},
   "outputs": [],
   "source": []
  },
  {
   "cell_type": "code",
   "execution_count": null,
   "id": "2c28f063",
   "metadata": {},
   "outputs": [],
   "source": []
  },
  {
   "cell_type": "code",
   "execution_count": null,
   "id": "4f792908",
   "metadata": {},
   "outputs": [],
   "source": []
  }
 ],
 "metadata": {
  "kernelspec": {
   "display_name": "Python 3 (ipykernel)",
   "language": "python",
   "name": "python3"
  },
  "language_info": {
   "codemirror_mode": {
    "name": "ipython",
    "version": 3
   },
   "file_extension": ".py",
   "mimetype": "text/x-python",
   "name": "python",
   "nbconvert_exporter": "python",
   "pygments_lexer": "ipython3",
   "version": "3.9.7"
  }
 },
 "nbformat": 4,
 "nbformat_minor": 5
}
